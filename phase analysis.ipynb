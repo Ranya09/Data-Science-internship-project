{
 "cells": [
  {
   "cell_type": "code",
   "execution_count": 27,
   "id": "b3452103",
   "metadata": {},
   "outputs": [
    {
     "name": "stderr",
     "output_type": "stream",
     "text": [
      "C:\\Users\\Rania\\AppData\\Local\\Temp\\ipykernel_22236\\1091992732.py:5: DtypeWarning: Columns (53) have mixed types. Specify dtype option on import or set low_memory=False.\n",
      "  df = pd.read_csv(r'C:/Users/Rania/Desktop/factoring.csv')\n"
     ]
    }
   ],
   "source": [
    "import pandas as pd\n",
    "import numpy as np\n",
    "\n",
    "# Charger les données depuis un fichier \n",
    "df = pd.read_csv(r'C:/Users/Rania/Desktop/factoring.csv')"
   ]
  },
  {
   "cell_type": "code",
   "execution_count": 28,
   "id": "493bcad4",
   "metadata": {},
   "outputs": [
    {
     "data": {
      "text/plain": [
       "(690561, 68)"
      ]
     },
     "execution_count": 28,
     "metadata": {},
     "output_type": "execute_result"
    }
   ],
   "source": [
    "df.shape"
   ]
  },
  {
   "cell_type": "code",
   "execution_count": 29,
   "id": "08423ccf",
   "metadata": {},
   "outputs": [],
   "source": [
    "# Supprimer la colonne \"REF_CTR\" de votre DataFrame\n",
    "df.drop(\"REF_CTR\", axis=1, inplace=True)\n",
    "df.drop(\"REF_CTR_PAPIER_CTR\", axis=1, inplace=True)\n",
    "df.drop(\"ID_DET_BORD\", axis=1, inplace=True)\n",
    "df.drop(\"REF_CTR_DET_BORD\", axis=1, inplace=True)\n",
    "df.drop(\"NUM_BORD\", axis=1, inplace=True)\n",
    "df.drop(\"REF_IND_DET_BORD\", axis=1, inplace=True)\n",
    "df.drop(\"ID_ENC\", axis=1, inplace=True)\n",
    "df.drop(\"REF_CTR_FIN\", axis=1, inplace=True)\n",
    "df.drop(\"REF_CTR_ENC\", axis=1, inplace=True)\n",
    "df.drop(\"REF_ADH_ENC\", axis=1, inplace=True)\n",
    "df.drop(\"REF_ACH_ENC\", axis=1, inplace=True)\n",
    "df.drop(\"ID_ENC_IMP\", axis=1, inplace=True)\n",
    "df.drop(\"REF_INSTR_FIN_FILLED\", axis=1, inplace=True)\n",
    "df.drop(\"REF_INSTR_FIN\", axis=1, inplace=True)\n",
    "df.drop(\"REF_ENC\", axis=1, inplace=True)\n",
    "df.drop(\"ID_IMP\", axis=1, inplace=True)"
   ]
  },
  {
   "cell_type": "code",
   "execution_count": 30,
   "id": "9edafc6e",
   "metadata": {},
   "outputs": [
    {
     "data": {
      "text/plain": [
       "(690561, 52)"
      ]
     },
     "execution_count": 30,
     "metadata": {},
     "output_type": "execute_result"
    }
   ],
   "source": [
    "df.shape"
   ]
  },
  {
   "cell_type": "code",
   "execution_count": 31,
   "id": "e140f26e",
   "metadata": {},
   "outputs": [
    {
     "name": "stdout",
     "output_type": "stream",
     "text": [
      "Moyenne de chaque colonne numérique :\n",
      "CA_CTR                         8.433338e+05\n",
      "CA_EXP_CTR                     0.000000e+00\n",
      "CA_IMP_CTR                     8.352806e+05\n",
      "LIM_FIN_CTR                    2.802675e+05\n",
      "NB_ACH_PREVU_CTR               1.266412e+01\n",
      "NB_FACT_PREVU_CTR              6.993087e+01\n",
      "NB_AVOIRS_PREVU_CTR            3.362439e+00\n",
      "NB_REMISES_PREVU_CTR           3.694769e+01\n",
      "DELAI_MOYEN_REG_CTR            6.630757e+01\n",
      "DELAI_MAX_REG_CTR              1.102800e+02\n",
      "DERN_MONT_DISP_2               0.000000e+00\n",
      "MONT_TTC_DET_BORD              1.565427e+01\n",
      "ECH_DET_BORD                   1.191226e+02\n",
      "MONT_OUV_DET_BORD              0.000000e+00\n",
      "TX_FDG_DET_BORD                1.226947e+27\n",
      "TX_COMM_FACT_DET_BORD          1.016229e-02\n",
      "MONT_FDG_DET_BORD              0.000000e+00\n",
      "MONT_FDG_LIBERE_DET_BORD       5.986642e+00\n",
      "MONT_COMM_FACT_DET_BORD        3.089625e+00\n",
      "TX_TVA_COMM_FACT_DET_BORD      6.273146e+04\n",
      "MONT_TVA_COMM_FACT_DET_BORD    9.449641e-01\n",
      "MONT_TTC_COMM_FACT_DET_BORD    3.432365e+00\n",
      "RETENU_DET_BORD                0.000000e+00\n",
      "MONT_ENC                       6.940428e+03\n",
      "MONT_FIN                       2.181047e+04\n",
      "ETAT_FIN                       1.000000e+00\n",
      "MONT_IMP                       6.940428e+03\n",
      "DURATION                       0.000000e+00\n",
      "dtype: float64\n"
     ]
    }
   ],
   "source": [
    "# Calculer la moyenne de chaque colonne numérique\n",
    "moyenne_par_colonne = df.select_dtypes(include=['int', 'float']).mean()\n",
    "\n",
    "# Afficher la moyenne de chaque colonne\n",
    "print(\"Moyenne de chaque colonne numérique :\")\n",
    "print(moyenne_par_colonne)\n"
   ]
  },
  {
   "cell_type": "code",
   "execution_count": 32,
   "id": "5e7f5090",
   "metadata": {},
   "outputs": [],
   "source": [
    "import pandas as pd\n",
    "from sklearn.preprocessing import StandardScaler, LabelEncoder\n",
    "\n",
    "# Séparer les colonnes numériques et catégorielles\n",
    "colonnes_numeriques = ['CA_CTR', 'CA_EXP_CTR', 'CA_IMP_CTR', 'LIM_FIN_CTR', 'NB_ACH_PREVU_CTR', 'NB_FACT_PREVU_CTR', 'NB_AVOIRS_PREVU_CTR', 'NB_REMISES_PREVU_CTR', 'DELAI_MOYEN_REG_CTR', 'DELAI_MAX_REG_CTR', 'DERN_MONT_DISP_2', 'MONT_TTC_DET_BORD', 'ECH_DET_BORD', 'MONT_OUV_DET_BORD', 'TX_FDG_DET_BORD', 'TX_COMM_FACT_DET_BORD', 'MONT_FDG_DET_BORD', 'MONT_FDG_LIBERE_DET_BORD', 'MONT_COMM_FACT_DET_BORD', 'TX_TVA_COMM_FACT_DET_BORD', 'MONT_TVA_COMM_FACT_DET_BORD', 'MONT_TTC_COMM_FACT_DET_BORD', 'RETENU_DET_BORD', 'MONT_ENC', 'MONT_FIN', 'ETAT_FIN', 'MONT_IMP', 'DURATION']\n",
    "\n",
    "colonnes_catégorielles = ['STATUT_CTR', 'TYP_CTR', 'DAT_SIGN_CTR', 'DAT_DEB_CTR', 'DAT_RESIL_CTR', 'DAT_PROCH_VERS_CTR', 'DEVISE_CTR', 'TYP_DET_BORD', 'DAT_DET_BORD', 'DEVISE_DET_BORD', 'MODE_REG_DET_BORD', 'DEVISE_ENC', 'DAT_RECEP_ENC', 'DAT_VAL_ENC', 'TYP_ENC', 'DAT_FIN', 'INSTR_FIN', 'DAT_INSTR_FIN', 'DATE_IMP', 'DATE_SAISI_IMP']\n",
    "\n",
    "# Copier le DataFrame original\n",
    "df_final = df.copy()\n",
    "\n",
    "# Normaliser les données numériques\n",
    "scaler = StandardScaler()\n",
    "df_final[colonnes_numeriques] = scaler.fit_transform(df_final[colonnes_numeriques])\n",
    "\n",
    "# Effectuer l'encodage des colonnes catégorielles\n",
    "label_encoders = {}\n",
    "for colonne in colonnes_catégorielles:\n",
    "    label_encoder = LabelEncoder()\n",
    "    df_final[colonne] = label_encoder.fit_transform(df_final[colonne])\n",
    "    label_encoders[colonne] = label_encoder\n",
    "\n",
    "# Convertir les colonnes de date en timestamps\n",
    "date_columns = ['DAT_SIGN_CTR', 'DAT_DEB_CTR', 'DAT_RESIL_CTR', 'DAT_PROCH_VERS_CTR', 'DAT_DET_BORD',\n",
    "                'DAT_RECEP_ENC', 'DAT_VAL_ENC', 'DAT_FIN', 'DAT_INSTR_FIN', 'DATE_IMP', 'DATE_SAISI_IMP']\n",
    "\n",
    "for col in date_columns:\n",
    "    df_final[col] = pd.to_datetime(df_final[col]).apply(lambda x: x.timestamp())\n",
    "\n",
    "\n"
   ]
  },
  {
   "cell_type": "code",
   "execution_count": 33,
   "id": "21fbf777",
   "metadata": {},
   "outputs": [
    {
     "name": "stdout",
     "output_type": "stream",
     "text": [
      "0         0\n",
      "1         0\n",
      "2         0\n",
      "3         0\n",
      "4         0\n",
      "         ..\n",
      "690556    0\n",
      "690557    0\n",
      "690558    0\n",
      "690559    0\n",
      "690560    0\n",
      "Name: Credibilite, Length: 690561, dtype: int64\n"
     ]
    },
    {
     "data": {
      "text/plain": [
       "0    386448\n",
       "1    304113\n",
       "Name: Credibilite, dtype: int64"
      ]
     },
     "execution_count": 33,
     "metadata": {},
     "output_type": "execute_result"
    }
   ],
   "source": [
    "import pandas as pd\n",
    "\n",
    "# Créer une nouvelle colonne \"credibilité\" avec des valeurs par défaut (0)\n",
    "df['Credibilite'] = 0\n",
    "\n",
    "# Appliquer les critères et mettre à jour la colonne \"credibilité\" en conséquence\n",
    "df.loc[(df['DELAI_MAX_REG_CTR'] <= 120) &\n",
    "       (df['CA_CTR'] >= 600000.0) &\n",
    "       (df['NB_FACT_PREVU_CTR'] >= 50) &\n",
    "       (df['MONT_TTC_DET_BORD'] >= 10.0) &\n",
    "       (df['MONT_IMP'] >= 2000.0), 'Credibilite'] = 1\n",
    "print(df['Credibilite'])\n",
    "(df['Credibilite']).value_counts()\n"
   ]
  },
  {
   "cell_type": "code",
   "execution_count": 58,
   "id": "2d0badfd",
   "metadata": {},
   "outputs": [
    {
     "name": "stdout",
     "output_type": "stream",
     "text": [
      "Credibilite                    1.000000\n",
      "DELAI_MAX_REG_CTR              0.607255\n",
      "LIM_FIN_CTR                    0.508241\n",
      "CA_CTR                         0.428552\n",
      "CA_IMP_CTR                     0.414829\n",
      "MONT_FIN                       0.356371\n",
      "MONT_TTC_DET_BORD              0.349007\n",
      "NB_REMISES_PREVU_CTR           0.310065\n",
      "MONT_TVA_COMM_FACT_DET_BORD    0.291929\n",
      "MONT_COMM_FACT_DET_BORD        0.285959\n",
      "MONT_TTC_COMM_FACT_DET_BORD    0.285245\n",
      "MONT_FDG_LIBERE_DET_BORD       0.238812\n",
      "NB_ACH_PREVU_CTR               0.199580\n",
      "MONT_IMP                       0.111676\n",
      "MONT_ENC                       0.111676\n",
      "ECH_DET_BORD                   0.105679\n",
      "TX_TVA_COMM_FACT_DET_BORD     -0.003450\n",
      "DELAI_MOYEN_REG_CTR           -0.123484\n",
      "NB_FACT_PREVU_CTR             -0.137821\n",
      "VALIDE_ENC                    -0.217063\n",
      "TX_COMM_FACT_DET_BORD         -0.242737\n",
      "NB_AVOIRS_PREVU_CTR           -0.383818\n",
      "CA_EXP_CTR                          NaN\n",
      "FACT_REG_CTR                        NaN\n",
      "DERN_MONT_DISP_2                    NaN\n",
      "MONT_OUV_DET_BORD                   NaN\n",
      "TX_FDG_DET_BORD                     NaN\n",
      "ANNUL_DET_BORD                      NaN\n",
      "VALIDE_DET_BORD                     NaN\n",
      "MONT_FDG_DET_BORD                   NaN\n",
      "RETENU_DET_BORD                     NaN\n",
      "ETAT_FIN                            NaN\n",
      "DURATION                            NaN\n",
      "Name: Credibilite, dtype: float64\n"
     ]
    }
   ],
   "source": [
    "# Calculer la corrélation entre \"Credibilite\" et les autres variables numériques\n",
    "correlation = df.corr()['Credibilite'].sort_values(ascending=False)\n",
    "\n",
    "# Afficher les corrélations\n",
    "print(correlation)"
   ]
  },
  {
   "cell_type": "code",
   "execution_count": 59,
   "id": "7bbb2e82",
   "metadata": {},
   "outputs": [],
   "source": [
    "def obtenir_colonnes_correlees(data, seuil=0.44):\n",
    "    \"\"\"\n",
    "    Obtenir les colonnes ayant une corrélation supérieure au seuil ou inférieure au seuil négatif avec 'Credibilite'.\n",
    "\n",
    "    Paramètres :\n",
    "        data (DataFrame) : Le DataFrame d'entrée.\n",
    "        seuil (float) : Le seuil de corrélation. Par défaut, il est à 0,44.\n",
    "\n",
    "    Retourne :\n",
    "        DataFrame : Un DataFrame contenant les colonnes ayant une corrélation supérieure ou inférieure au seuil.\n",
    "    \"\"\"\n",
    "    # Calculer la matrice de corrélation\n",
    "    matrice_de_correlation = data.corr()\n",
    "\n",
    "    # Obtenir la corrélation avec la colonne 'Credibilite'\n",
    "    corrélation_avec_credibilite = matrice_de_correlation['Credibilite']\n",
    "\n",
    "    # Filtrer les colonnes en fonction du seuil\n",
    "    colonnes_correlees = corrélation_avec_credibilite[\n",
    "        (corrélation_avec_credibilite > seuil) | (corrélation_avec_credibilite < -seuil)\n",
    "    ]\n",
    "\n",
    "    # Créer un DataFrame contenant les colonnes correlees\n",
    "    données_correlees = data[colonnes_correlees.index]\n",
    "\n",
    "    return données_correlees\n",
    "\n"
   ]
  },
  {
   "cell_type": "code",
   "execution_count": 60,
   "id": "677bc447",
   "metadata": {},
   "outputs": [
    {
     "name": "stdout",
     "output_type": "stream",
     "text": [
      "Requirement already satisfied: xgboost in c:\\users\\rania\\anaconda3\\lib\\site-packages (2.0.0)\n",
      "Requirement already satisfied: numpy in c:\\users\\rania\\anaconda3\\lib\\site-packages (from xgboost) (1.21.5)\n",
      "Requirement already satisfied: scipy in c:\\users\\rania\\anaconda3\\lib\\site-packages (from xgboost) (1.7.3)\n"
     ]
    }
   ],
   "source": [
    "!pip install xgboost\n"
   ]
  },
  {
   "cell_type": "code",
   "execution_count": 63,
   "id": "e50f6864",
   "metadata": {},
   "outputs": [
    {
     "name": "stdout",
     "output_type": "stream",
     "text": [
      "Régression Logistique :\n",
      "Accuracy : 0.803888134672821\n",
      "Matrice de Confusion :\n",
      "[[104392  50114]\n",
      " [  4057 117662]]\n",
      "Classification Report :\n",
      "              precision    recall  f1-score   support\n",
      "\n",
      "           0       0.96      0.68      0.79    154506\n",
      "           1       0.70      0.97      0.81    121719\n",
      "\n",
      "    accuracy                           0.80    276225\n",
      "   macro avg       0.83      0.82      0.80    276225\n",
      "weighted avg       0.85      0.80      0.80    276225\n",
      "\n",
      "Random Forest :\n",
      "Accuracy : 0.8322309711286089\n",
      "Matrice de Confusion :\n",
      "[[119345  35161]\n",
      " [ 11181 110538]]\n",
      "Classification Report :\n",
      "              precision    recall  f1-score   support\n",
      "\n",
      "           0       0.91      0.77      0.84    154506\n",
      "           1       0.76      0.91      0.83    121719\n",
      "\n",
      "    accuracy                           0.83    276225\n",
      "   macro avg       0.84      0.84      0.83    276225\n",
      "weighted avg       0.85      0.83      0.83    276225\n",
      "\n",
      "Naïve Bayes Gaussien :\n",
      "Accuracy : 0.8007530093221106\n",
      "Matrice de Confusion :\n",
      "[[103845  50661]\n",
      " [  4376 117343]]\n",
      "Classification Report :\n",
      "              precision    recall  f1-score   support\n",
      "\n",
      "           0       0.96      0.67      0.79    154506\n",
      "           1       0.70      0.96      0.81    121719\n",
      "\n",
      "    accuracy                           0.80    276225\n",
      "   macro avg       0.83      0.82      0.80    276225\n",
      "weighted avg       0.84      0.80      0.80    276225\n",
      "\n",
      "XGBoost :\n",
      "Accuracy : 0.8636510091410987\n",
      "Matrice de Confusion :\n",
      "[[117124  37382]\n",
      " [   281 121438]]\n",
      "Classification Report :\n",
      "              precision    recall  f1-score   support\n",
      "\n",
      "           0       1.00      0.76      0.86    154506\n",
      "           1       0.76      1.00      0.87    121719\n",
      "\n",
      "    accuracy                           0.86    276225\n",
      "   macro avg       0.88      0.88      0.86    276225\n",
      "weighted avg       0.89      0.86      0.86    276225\n",
      "\n"
     ]
    }
   ],
   "source": [
    "from sklearn.model_selection import train_test_split\n",
    "from sklearn.linear_model import LogisticRegression\n",
    "from sklearn.ensemble import RandomForestClassifier\n",
    "from sklearn.naive_bayes import GaussianNB\n",
    "import xgboost as xgb\n",
    "from sklearn.metrics import accuracy_score, classification_report, confusion_matrix\n",
    "\n",
    "# Obtenez les colonnes corrélées avec 'Credibilite' en utilisant la fonction\n",
    "X_corr = obtenir_colonnes_correlees(df, seuil=0.3)\n",
    "y_corr = df['Credibilite']\n",
    "# Excluez la colonne 'Credibilite' des caractéristiques\n",
    "X_corr = X_corr.drop(columns=['Credibilite'])\n",
    "\n",
    "# Divisez les données en ensembles d'entraînement et de test\n",
    "X_train, X_test, y_train, y_test = train_test_split(X_corr, y_corr, test_size=0.4, random_state=42)\n",
    "\n",
    "# Créez et entraînez le modèle de régression logistique\n",
    "model_logistic = LogisticRegression()\n",
    "model_logistic.fit(X_train, y_train)\n",
    "\n",
    "# Faites des prédictions avec le modèle de régression logistique\n",
    "y_pred_logistic = model_logistic.predict(X_test)\n",
    "\n",
    "# Évaluez les performances du modèle de régression logistique\n",
    "accuracy_logistic = accuracy_score(y_test, y_pred_logistic)\n",
    "confusion_matrix_logistic = confusion_matrix(y_test, y_pred_logistic)\n",
    "classification_report_logistic = classification_report(y_test, y_pred_logistic)\n",
    "\n",
    "# Affichez les résultats de la régression logistique\n",
    "print(\"Régression Logistique :\")\n",
    "print(f\"Accuracy : {accuracy_logistic}\")\n",
    "print(\"Matrice de Confusion :\")\n",
    "print(confusion_matrix_logistic)\n",
    "print(\"Classification Report :\")\n",
    "print(classification_report_logistic)\n",
    "\n",
    "# Créez et entraînez le modèle Random Forest\n",
    "model_rf = RandomForestClassifier(random_state=42)\n",
    "model_rf.fit(X_train, y_train)\n",
    "\n",
    "# Faites des prédictions avec le modèle Random Forest\n",
    "y_pred_rf = model_rf.predict(X_test)\n",
    "\n",
    "# Évaluez les performances du modèle Random Forest\n",
    "accuracy_rf = accuracy_score(y_test, y_pred_rf)\n",
    "confusion_matrix_rf = confusion_matrix(y_test, y_pred_rf)\n",
    "classification_report_rf = classification_report(y_test, y_pred_rf)\n",
    "\n",
    "# Affichez les résultats du modèle Random Forest\n",
    "print(\"Random Forest :\")\n",
    "print(f\"Accuracy : {accuracy_rf}\")\n",
    "print(\"Matrice de Confusion :\")\n",
    "print(confusion_matrix_rf)\n",
    "print(\"Classification Report :\")\n",
    "print(classification_report_rf)\n",
    "\n",
    "# Créez et entraînez le modèle Naïve Bayes Gaussien\n",
    "model_nb = GaussianNB()\n",
    "model_nb.fit(X_train, y_train)\n",
    "\n",
    "# Faites des prédictions avec le modèle Naïve Bayes Gaussien\n",
    "y_pred_nb = model_nb.predict(X_test)\n",
    "\n",
    "# Évaluez les performances du modèle Naïve Bayes Gaussien\n",
    "accuracy_nb = accuracy_score(y_test, y_pred_nb)\n",
    "confusion_matrix_nb = confusion_matrix(y_test, y_pred_nb)\n",
    "classification_report_nb = classification_report(y_test, y_pred_nb)\n",
    "\n",
    "# Affichez les résultats du modèle Naïve Bayes Gaussien\n",
    "print(\"Naïve Bayes Gaussien :\")\n",
    "print(f\"Accuracy : {accuracy_nb}\")\n",
    "print(\"Matrice de Confusion :\")\n",
    "print(confusion_matrix_nb)\n",
    "print(\"Classification Report :\")\n",
    "print(classification_report_nb)\n",
    "\n",
    "# Créez et entraînez le modèle XGBoost\n",
    "model_xgb = xgb.XGBClassifier(learning_rate=0.1, n_estimators=100, objective='binary:logistic', eval_metric='logloss')\n",
    "model_xgb.fit(X_train, y_train)\n",
    "\n",
    "# Faites des prédictions avec le modèle XGBoost\n",
    "y_pred_xgb = model_xgb.predict(X_test)\n",
    "\n",
    "# Évaluez les performances du modèle XGBoost\n",
    "accuracy_xgb = accuracy_score(y_test, y_pred_xgb)\n",
    "confusion_matrix_xgb = confusion_matrix(y_test, y_pred_xgb)\n",
    "classification_report_xgb = classification_report(y_test, y_pred_xgb)\n",
    "\n",
    "# Affichez les résultats du modèle XGBoost\n",
    "print(\"XGBoost :\")\n",
    "print(f\"Accuracy : {accuracy_xgb}\")\n",
    "print(\"Matrice de Confusion :\")\n",
    "print(confusion_matrix_xgb)\n",
    "print(\"Classification Report :\")\n",
    "print(classification_report_xgb)\n"
   ]
  },
  {
   "cell_type": "code",
   "execution_count": null,
   "id": "baaa6048",
   "metadata": {},
   "outputs": [],
   "source": []
  }
 ],
 "metadata": {
  "kernelspec": {
   "display_name": "Python 3 (ipykernel)",
   "language": "python",
   "name": "python3"
  },
  "language_info": {
   "codemirror_mode": {
    "name": "ipython",
    "version": 3
   },
   "file_extension": ".py",
   "mimetype": "text/x-python",
   "name": "python",
   "nbconvert_exporter": "python",
   "pygments_lexer": "ipython3",
   "version": "3.9.12"
  }
 },
 "nbformat": 4,
 "nbformat_minor": 5
}
