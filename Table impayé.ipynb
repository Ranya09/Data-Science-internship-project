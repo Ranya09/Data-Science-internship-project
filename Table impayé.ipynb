{
 "cells": [
  {
   "cell_type": "code",
   "execution_count": 1,
   "id": "9c70e04b",
   "metadata": {},
   "outputs": [
    {
     "name": "stdout",
     "output_type": "stream",
     "text": [
      "                                  0                    1                    2  \\\n",
      "ID_IMP                            1                    3                    5   \n",
      "ID_ENC_IMP                      320                  947                  837   \n",
      "DATE_IMP        2014-12-05 00:00:00  2014-12-03 00:00:00  2014-12-25 00:00:00   \n",
      "DATE_SAISI_IMP  2014-12-19 00:00:00  2014-12-27 00:00:00  2014-12-31 00:00:00   \n",
      "MONT_IMP                    14775.0               5000.0               5000.0   \n",
      "Duration                        -14                  -24                   -6   \n",
      "\n",
      "                                  3                    4  \n",
      "ID_IMP                            6                    7  \n",
      "ID_ENC_IMP                      836                  976  \n",
      "DATE_IMP        2014-12-26 00:00:00  2015-01-10 00:00:00  \n",
      "DATE_SAISI_IMP  2015-01-06 00:00:00  2015-02-06 00:00:00  \n",
      "MONT_IMP                   28449.75              10757.0  \n",
      "Duration                        -11                  -27  \n"
     ]
    }
   ],
   "source": [
    "import pandas as pd\n",
    "\n",
    "# Charger les données depuis un fichier \n",
    "df = pd.read_excel(r'C:/Users/Rania/Desktop/impaye_new1_data (1).xlsx')\n",
    "\n",
    "# Afficher toutes les données du DataFrame\n",
    "print(df.head().T)\n"
   ]
  },
  {
   "cell_type": "code",
   "execution_count": 2,
   "id": "6e82e9b6",
   "metadata": {},
   "outputs": [
    {
     "data": {
      "text/plain": [
       "(613, 6)"
      ]
     },
     "execution_count": 2,
     "metadata": {},
     "output_type": "execute_result"
    }
   ],
   "source": [
    "df.shape"
   ]
  },
  {
   "cell_type": "code",
   "execution_count": 3,
   "id": "35582377",
   "metadata": {},
   "outputs": [
    {
     "data": {
      "text/plain": [
       "ID_IMP            0\n",
       "ID_ENC_IMP        0\n",
       "DATE_IMP          0\n",
       "DATE_SAISI_IMP    0\n",
       "MONT_IMP          0\n",
       "Duration          0\n",
       "dtype: int64"
      ]
     },
     "execution_count": 3,
     "metadata": {},
     "output_type": "execute_result"
    }
   ],
   "source": [
    "df.isna().sum()"
   ]
  },
  {
   "cell_type": "code",
   "execution_count": 5,
   "id": "cba14864",
   "metadata": {},
   "outputs": [
    {
     "data": {
      "text/plain": [
       "0     -14\n",
       "1     -24\n",
       "2      -6\n",
       "3     -11\n",
       "4     -27\n",
       "       ..\n",
       "608    -1\n",
       "609     0\n",
       "610     0\n",
       "611     0\n",
       "612     0\n",
       "Name: Duration, Length: 613, dtype: int64"
      ]
     },
     "execution_count": 5,
     "metadata": {},
     "output_type": "execute_result"
    }
   ],
   "source": [
    "\n",
    "df['Duration'] = df['Duration'].replace('Duration introuvable', '0')\n",
    "\n",
    "# Then, convert the column to numeric\n",
    "df['Duration'] = pd.to_numeric(df['Duration'], errors='coerce')\n",
    "\n",
    "df['Duration'] \n"
   ]
  },
  {
   "cell_type": "code",
   "execution_count": 6,
   "id": "703ef3a2",
   "metadata": {},
   "outputs": [
    {
     "name": "stdout",
     "output_type": "stream",
     "text": [
      "                                  0                    1                    2  \\\n",
      "ID_IMP                            1                    3                    5   \n",
      "ID_ENC_IMP                      320                  947                  837   \n",
      "DATE_IMP                 05/12/2014           03/12/2014           25/12/2014   \n",
      "DATE_SAISI_IMP  2014-12-19 00:00:00  2014-12-27 00:00:00  2014-12-31 00:00:00   \n",
      "MONT_IMP                    14775.0               5000.0               5000.0   \n",
      "Duration                        -14                  -24                   -6   \n",
      "\n",
      "                                  3                    4  \n",
      "ID_IMP                            6                    7  \n",
      "ID_ENC_IMP                      836                  976  \n",
      "DATE_IMP                 26/12/2014           10/01/2015  \n",
      "DATE_SAISI_IMP  2015-01-06 00:00:00  2015-02-06 00:00:00  \n",
      "MONT_IMP                   28449.75              10757.0  \n",
      "Duration                        -11                  -27  \n"
     ]
    }
   ],
   "source": [
    "\n",
    "\n",
    "# Rename the column to remove any leading or trailing spaces\n",
    "df.rename(columns={'DATE_IMP ': 'DATE_IMP'}, inplace=True)\n",
    "\n",
    "# Convert the 'DATE_IMP' column to datetime format\n",
    "df['DATE_IMP'] = pd.to_datetime(df['DATE_IMP'])\n",
    "\n",
    "# Format the dates as \"dd/mm/yyyy\"\n",
    "df['DATE_IMP'] = df['DATE_IMP'].dt.strftime('%d/%m/%Y')\n",
    "print(df.head().T)\n"
   ]
  },
  {
   "cell_type": "code",
   "execution_count": 8,
   "id": "90a7471e",
   "metadata": {},
   "outputs": [
    {
     "name": "stdout",
     "output_type": "stream",
     "text": [
      "                         0           1           2           3           4\n",
      "ID_IMP                   1           3           5           6           7\n",
      "ID_ENC_IMP             320         947         837         836         976\n",
      "DATE_IMP        05/12/2014  03/12/2014  25/12/2014  26/12/2014  10/01/2015\n",
      "DATE_SAISI_IMP  19/12/2014  27/12/2014  31/12/2014  06/01/2015  06/02/2015\n",
      "MONT_IMP           14775.0      5000.0      5000.0    28449.75     10757.0\n",
      "Duration               -14         -24          -6         -11         -27\n"
     ]
    }
   ],
   "source": [
    "\n",
    "df.rename(columns={'DATE_SAISI_IMP ': 'DATE_SAISI_IMP'}, inplace=True)\n",
    "\n",
    "# Convert the 'DATE_SAISI_IMP' column to datetime format\n",
    "df['DATE_SAISI_IMP'] = pd.to_datetime(df['DATE_SAISI_IMP'])\n",
    "\n",
    "# Format the dates as \"dd/mm/yyyy\"\n",
    "df['DATE_SAISI_IMP'] = df['DATE_SAISI_IMP'].dt.strftime('%d/%m/%Y')\n",
    "print(df.head().T)"
   ]
  },
  {
   "cell_type": "code",
   "execution_count": 9,
   "id": "410c9e53",
   "metadata": {},
   "outputs": [
    {
     "name": "stdout",
     "output_type": "stream",
     "text": [
      "Nouvelle version enregistrée sur le bureau : C:\\Users\\Rania\\Desktop\\Table IMPAYE.xlsx\n"
     ]
    }
   ],
   "source": [
    "import os\n",
    "import pandas as pd\n",
    "# Spécifier le chemin complet d'enregistrement sur votre bureau\n",
    "nom_fichier = 'Table IMPAYE.xlsx'\n",
    "chemin_bureau = os.path.expanduser(\"~\\\\Desktop\\\\\" + nom_fichier)\n",
    "\n",
    "# Enregistrer la nouvelle version dans un fichier Excel\n",
    "df.to_excel(chemin_bureau, index=False)\n",
    "\n",
    "print(\"Nouvelle version enregistrée sur le bureau :\", chemin_bureau)"
   ]
  },
  {
   "cell_type": "code",
   "execution_count": null,
   "id": "6eda98d4",
   "metadata": {},
   "outputs": [],
   "source": []
  }
 ],
 "metadata": {
  "kernelspec": {
   "display_name": "Python 3 (ipykernel)",
   "language": "python",
   "name": "python3"
  },
  "language_info": {
   "codemirror_mode": {
    "name": "ipython",
    "version": 3
   },
   "file_extension": ".py",
   "mimetype": "text/x-python",
   "name": "python",
   "nbconvert_exporter": "python",
   "pygments_lexer": "ipython3",
   "version": "3.9.12"
  }
 },
 "nbformat": 4,
 "nbformat_minor": 5
}
