{
 "cells": [
  {
   "cell_type": "code",
   "execution_count": 1,
   "id": "908544f5",
   "metadata": {},
   "outputs": [
    {
     "name": "stdout",
     "output_type": "stream",
     "text": [
      "                                    0                     1  \\\n",
      "REF_IND                             1                     2   \n",
      "GENRE_IND                       PM                    PM      \n",
      "TYP_DOC_ID_IND   Registre De Commerce  Registre De Commerce   \n",
      "DATE_DOC_ID_IND   2014-02-10 00:00:00   2014-02-10 00:00:00   \n",
      "DAT_NAISS_CREAT   2014-02-10 00:00:00   2014-02-10 00:00:00   \n",
      "ID_NLDP                             1                     1   \n",
      "REF_ADH_IND                  40900191                     0   \n",
      "REF_ACH_IND                  41700191              41700003   \n",
      "DURATION_EXO                        0                     0   \n",
      "Age                                 9                     9   \n",
      "\n",
      "                                    2                     3  \\\n",
      "REF_IND                             3                     4   \n",
      "GENRE_IND                       PM                    PM      \n",
      "TYP_DOC_ID_IND   Registre De Commerce  Registre De Commerce   \n",
      "DATE_DOC_ID_IND   2014-02-10 00:00:00   2014-02-10 00:00:00   \n",
      "DAT_NAISS_CREAT   2014-02-10 00:00:00   2014-02-10 00:00:00   \n",
      "ID_NLDP                             1                     2   \n",
      "REF_ADH_IND                  40980899              40999601   \n",
      "REF_ACH_IND                  41782266               REF INT   \n",
      "DURATION_EXO                        0  Duration introuvable   \n",
      "Age                                 9                     9   \n",
      "\n",
      "                                    4  \n",
      "REF_IND                             5  \n",
      "GENRE_IND                       PM     \n",
      "TYP_DOC_ID_IND   Registre De Commerce  \n",
      "DATE_DOC_ID_IND   2014-02-10 00:00:00  \n",
      "DAT_NAISS_CREAT   2014-02-10 00:00:00  \n",
      "ID_NLDP                             1  \n",
      "REF_ADH_IND                  40991849  \n",
      "REF_ACH_IND                  41782322  \n",
      "DURATION_EXO                        0  \n",
      "Age                                 9  \n"
     ]
    }
   ],
   "source": [
    "import pandas as pd\n",
    "\n",
    "# Charger les données depuis un fichier \n",
    "df = pd.read_excel(r'C:/Users/Rania/Desktop/individu_new1_data.xlsx')\n",
    "\n",
    "# Afficher toutes les données du DataFrame\n",
    "print(df.head().T)"
   ]
  },
  {
   "cell_type": "code",
   "execution_count": 2,
   "id": "60c56566",
   "metadata": {},
   "outputs": [
    {
     "data": {
      "text/plain": [
       "(1230, 10)"
      ]
     },
     "execution_count": 2,
     "metadata": {},
     "output_type": "execute_result"
    }
   ],
   "source": [
    "df.shape"
   ]
  },
  {
   "cell_type": "code",
   "execution_count": 3,
   "id": "c261fe78",
   "metadata": {},
   "outputs": [
    {
     "data": {
      "text/plain": [
       "REF_IND            0\n",
       "GENRE_IND          0\n",
       "TYP_DOC_ID_IND     0\n",
       "DATE_DOC_ID_IND    0\n",
       "DAT_NAISS_CREAT    0\n",
       "ID_NLDP            0\n",
       "REF_ADH_IND        0\n",
       "REF_ACH_IND        0\n",
       "DURATION_EXO       0\n",
       "Age                0\n",
       "dtype: int64"
      ]
     },
     "execution_count": 3,
     "metadata": {},
     "output_type": "execute_result"
    }
   ],
   "source": [
    "df.isna().sum()"
   ]
  },
  {
   "cell_type": "code",
   "execution_count": 4,
   "id": "61eb0459",
   "metadata": {},
   "outputs": [],
   "source": [
    "df = df.drop('REF_ADH_IND', axis=1)\n",
    "df = df.drop('REF_ACH_IND', axis=1)\n",
    "df = df.drop('Age', axis=1)"
   ]
  },
  {
   "cell_type": "code",
   "execution_count": 5,
   "id": "fe240bc0",
   "metadata": {},
   "outputs": [],
   "source": [
    "\n",
    "df['DURATION_EXO'] = df['DURATION_EXO'].replace('Duration introuvable', '0')\n",
    "\n",
    "# Then, convert the column to numeric\n",
    "df['DURATION_EXO'] = pd.to_numeric(df['DURATION_EXO'], errors='coerce')\n",
    "\n",
    "# Now, the 'Duration' column contains numeric values with '0' for replaced entries"
   ]
  },
  {
   "cell_type": "code",
   "execution_count": 6,
   "id": "8ea50943",
   "metadata": {},
   "outputs": [
    {
     "data": {
      "text/plain": [
       "0       0\n",
       "1       0\n",
       "2       0\n",
       "3       0\n",
       "4       0\n",
       "       ..\n",
       "1225    0\n",
       "1226    0\n",
       "1227    0\n",
       "1228    0\n",
       "1229    0\n",
       "Name: DURATION_EXO, Length: 1230, dtype: int64"
      ]
     },
     "execution_count": 6,
     "metadata": {},
     "output_type": "execute_result"
    }
   ],
   "source": [
    "df['DURATION_EXO'] "
   ]
  },
  {
   "cell_type": "code",
   "execution_count": 7,
   "id": "f1f80f6f",
   "metadata": {},
   "outputs": [
    {
     "name": "stdout",
     "output_type": "stream",
     "text": [
      "0       personne morale\n",
      "1       personne morale\n",
      "2       personne morale\n",
      "3       personne morale\n",
      "4       personne morale\n",
      "             ...       \n",
      "1225    personne morale\n",
      "1226    personne morale\n",
      "1227    personne morale\n",
      "1228    personne morale\n",
      "1229    personne morale\n",
      "Name: GENRE_IND, Length: 1230, dtype: object\n"
     ]
    }
   ],
   "source": [
    "\n",
    "# Convertir les valeurs en minuscules et nettoyer la colonne \"GENRE_IND\"\n",
    "df['GENRE_IND'] = df['GENRE_IND'].str.strip().str.lower()\n",
    "\n",
    "# Remplacer les valeurs dans la colonne \"GENRE_IND\"\n",
    "df['GENRE_IND'] = df['GENRE_IND'].replace({'pm': 'personne morale', 'pp': 'personne physique' , 'ass': 'Assurance'})\n",
    "\n",
    "\n",
    "\n",
    "# Afficher la colonne \"GENRE_IND\" mise à jour\n",
    "print(df['GENRE_IND'])\n"
   ]
  },
  {
   "cell_type": "code",
   "execution_count": 8,
   "id": "b34ac3e4",
   "metadata": {},
   "outputs": [
    {
     "data": {
      "text/plain": [
       "0       1\n",
       "1       1\n",
       "2       1\n",
       "3       2\n",
       "4       1\n",
       "       ..\n",
       "1225    2\n",
       "1226    2\n",
       "1227    2\n",
       "1228    2\n",
       "1229    2\n",
       "Name: ID_NLDP, Length: 1230, dtype: int64"
      ]
     },
     "execution_count": 8,
     "metadata": {},
     "output_type": "execute_result"
    }
   ],
   "source": [
    "df['ID_NLDP'] = df['ID_NLDP'].replace('ID_NLDP introuvable', '0')\n",
    "\n",
    "# Then, convert the column to numeric\n",
    "df['ID_NLDP'] = pd.to_numeric(df['ID_NLDP'], errors='coerce')\n",
    "\n",
    "df['ID_NLDP'] "
   ]
  },
  {
   "cell_type": "code",
   "execution_count": 9,
   "id": "bdef30c5",
   "metadata": {},
   "outputs": [
    {
     "name": "stdout",
     "output_type": "stream",
     "text": [
      "Nouvelle version enregistrée sur le bureau : C:\\Users\\Rania\\Desktop\\Table individu.xlsx\n"
     ]
    }
   ],
   "source": [
    "import os\n",
    "import pandas as pd\n",
    "# Spécifier le chemin complet d'enregistrement sur votre bureau\n",
    "nom_fichier = 'Table individu.xlsx'\n",
    "chemin_bureau = os.path.expanduser(\"~\\\\Desktop\\\\\" + nom_fichier)\n",
    "\n",
    "# Enregistrer la nouvelle version dans un fichier Excel\n",
    "df.to_excel(chemin_bureau, index=False)\n",
    "\n",
    "print(\"Nouvelle version enregistrée sur le bureau :\", chemin_bureau)"
   ]
  },
  {
   "cell_type": "code",
   "execution_count": null,
   "id": "9656a53a",
   "metadata": {},
   "outputs": [],
   "source": []
  }
 ],
 "metadata": {
  "kernelspec": {
   "display_name": "Python 3 (ipykernel)",
   "language": "python",
   "name": "python3"
  },
  "language_info": {
   "codemirror_mode": {
    "name": "ipython",
    "version": 3
   },
   "file_extension": ".py",
   "mimetype": "text/x-python",
   "name": "python",
   "nbconvert_exporter": "python",
   "pygments_lexer": "ipython3",
   "version": "3.9.12"
  }
 },
 "nbformat": 4,
 "nbformat_minor": 5
}
