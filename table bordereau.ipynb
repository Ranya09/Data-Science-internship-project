{
 "cells": [
  {
   "cell_type": "code",
   "execution_count": 1,
   "id": "6c2d1013",
   "metadata": {},
   "outputs": [
    {
     "name": "stdout",
     "output_type": "stream",
     "text": [
      "                                   0                    1  \\\n",
      "REF_CTR_BORD                      50                   35   \n",
      "ANNEE_BORD                      2019                 2014   \n",
      "REF_ADH_BORD                     204                  162   \n",
      "DAT_BORD         2019-07-31 00:00:00  2014-06-30 00:00:00   \n",
      "NB_DOC_BORD                        5                    1   \n",
      "MONT_TOT_BORD              56618.187            68844.055   \n",
      "VALIDE_BORD                     True                 True   \n",
      "DAT_SAISIE_BORD  2019-07-31 00:00:00  2014-07-01 00:00:00   \n",
      "\n",
      "                                   2                    3                    4  \n",
      "REF_CTR_BORD                      39                   40                   46  \n",
      "ANNEE_BORD                      2015                 2015                 2015  \n",
      "REF_ADH_BORD                     178                  183                  193  \n",
      "DAT_BORD         2015-02-16 00:00:00  2015-03-26 00:00:00  2015-06-08 00:00:00  \n",
      "NB_DOC_BORD                        2                    1                    2  \n",
      "MONT_TOT_BORD              19339.701           221210.692           383762.639  \n",
      "VALIDE_BORD                     True                 True                 True  \n",
      "DAT_SAISIE_BORD  2015-02-17 00:00:00  2015-03-30 00:00:00  2015-06-09 00:00:00  \n"
     ]
    }
   ],
   "source": [
    "import pandas as pd\n",
    "\n",
    "# Charger les données depuis un fichier \n",
    "df = pd.read_excel(r'C:/Users/Rania/Desktop/new_dataframeTabBORDEREAU1.xlsx')\n",
    "\n",
    "# Afficher toutes les données du DataFrame\n",
    "print(df.head().T)\n",
    "\n"
   ]
  },
  {
   "cell_type": "code",
   "execution_count": 2,
   "id": "c939073f",
   "metadata": {},
   "outputs": [
    {
     "data": {
      "text/plain": [
       "(2836, 8)"
      ]
     },
     "execution_count": 2,
     "metadata": {},
     "output_type": "execute_result"
    }
   ],
   "source": [
    "df.shape"
   ]
  },
  {
   "cell_type": "code",
   "execution_count": 3,
   "id": "05950617",
   "metadata": {},
   "outputs": [
    {
     "data": {
      "text/plain": [
       "REF_CTR_BORD       0\n",
       "ANNEE_BORD         0\n",
       "REF_ADH_BORD       0\n",
       "DAT_BORD           0\n",
       "NB_DOC_BORD        0\n",
       "MONT_TOT_BORD      0\n",
       "VALIDE_BORD        0\n",
       "DAT_SAISIE_BORD    0\n",
       "dtype: int64"
      ]
     },
     "execution_count": 3,
     "metadata": {},
     "output_type": "execute_result"
    }
   ],
   "source": [
    "df.isna().sum()"
   ]
  },
  {
   "cell_type": "code",
   "execution_count": 4,
   "id": "32563e88",
   "metadata": {},
   "outputs": [
    {
     "name": "stdout",
     "output_type": "stream",
     "text": [
      "                                   0                    1  \\\n",
      "REF_CTR_BORD                      50                   35   \n",
      "ANNEE_BORD                      2019                 2014   \n",
      "DAT_BORD         2019-07-31 00:00:00  2014-06-30 00:00:00   \n",
      "NB_DOC_BORD                        5                    1   \n",
      "MONT_TOT_BORD              56618.187            68844.055   \n",
      "VALIDE_BORD                     True                 True   \n",
      "DAT_SAISIE_BORD  2019-07-31 00:00:00  2014-07-01 00:00:00   \n",
      "\n",
      "                                   2                    3                    4  \n",
      "REF_CTR_BORD                      39                   40                   46  \n",
      "ANNEE_BORD                      2015                 2015                 2015  \n",
      "DAT_BORD         2015-02-16 00:00:00  2015-03-26 00:00:00  2015-06-08 00:00:00  \n",
      "NB_DOC_BORD                        2                    1                    2  \n",
      "MONT_TOT_BORD              19339.701           221210.692           383762.639  \n",
      "VALIDE_BORD                     True                 True                 True  \n",
      "DAT_SAISIE_BORD  2015-02-17 00:00:00  2015-03-30 00:00:00  2015-06-09 00:00:00  \n"
     ]
    }
   ],
   "source": [
    "# Supprimer la colonne REF_ADH_BORD\n",
    "df = df.drop('REF_ADH_BORD', axis=1)\n",
    "\n",
    "# Afficher le DataFrame mis à jour+\n",
    "print(df.head().T)\n"
   ]
  },
  {
   "cell_type": "code",
   "execution_count": 5,
   "id": "9fc170d6",
   "metadata": {},
   "outputs": [
    {
     "name": "stdout",
     "output_type": "stream",
     "text": [
      "                                   0                    1  \\\n",
      "REF_CTR_BORD                      50                   35   \n",
      "ANNEE_BORD                      2019                 2014   \n",
      "DAT_BORD                  31/07/2019           30/06/2014   \n",
      "NB_DOC_BORD                        5                    1   \n",
      "MONT_TOT_BORD              56618.187            68844.055   \n",
      "VALIDE_BORD                     True                 True   \n",
      "DAT_SAISIE_BORD  2019-07-31 00:00:00  2014-07-01 00:00:00   \n",
      "\n",
      "                                   2                    3                    4  \n",
      "REF_CTR_BORD                      39                   40                   46  \n",
      "ANNEE_BORD                      2015                 2015                 2015  \n",
      "DAT_BORD                  16/02/2015           26/03/2015           08/06/2015  \n",
      "NB_DOC_BORD                        2                    1                    2  \n",
      "MONT_TOT_BORD              19339.701           221210.692           383762.639  \n",
      "VALIDE_BORD                     True                 True                 True  \n",
      "DAT_SAISIE_BORD  2015-02-17 00:00:00  2015-03-30 00:00:00  2015-06-09 00:00:00  \n"
     ]
    }
   ],
   "source": [
    "\n",
    "# Convertir la colonne DAT_BORD en objets DateTime (si ce n'est pas déjà le cas)\n",
    "df['DAT_BORD'] = pd.to_datetime(df['DAT_BORD'])\n",
    "\n",
    "# Formater les dates au format \"dd/mm/yyyy\"\n",
    "df['DAT_BORD'] = df['DAT_BORD'].dt.strftime('%d/%m/%Y')\n",
    "\n",
    "# Afficher le DataFrame mis à jour\n",
    "print(df.head().T)"
   ]
  },
  {
   "cell_type": "code",
   "execution_count": 6,
   "id": "7ecc55b8",
   "metadata": {},
   "outputs": [
    {
     "name": "stdout",
     "output_type": "stream",
     "text": [
      "                          0           1           2           3           4\n",
      "REF_CTR_BORD             50          35          39          40          46\n",
      "ANNEE_BORD             2019        2014        2015        2015        2015\n",
      "DAT_BORD         31/07/2019  30/06/2014  16/02/2015  26/03/2015  08/06/2015\n",
      "NB_DOC_BORD               5           1           2           1           2\n",
      "MONT_TOT_BORD     56618.187   68844.055   19339.701  221210.692  383762.639\n",
      "VALIDE_BORD            True        True        True        True        True\n",
      "DAT_SAISIE_BORD  31/07/2019  01/07/2014  17/02/2015  30/03/2015  09/06/2015\n"
     ]
    }
   ],
   "source": [
    "# Convertir la colonne DAT_SAISIE_BORD en objets DateTime (si ce n'est pas déjà le cas)\n",
    "df['DAT_SAISIE_BORD'] = pd.to_datetime(df['DAT_SAISIE_BORD'])\n",
    "\n",
    "# Formater les dates au format \"dd/mm/yyyy\"\n",
    "df['DAT_SAISIE_BORD'] = df['DAT_SAISIE_BORD'].dt.strftime('%d/%m/%Y')\n",
    "\n",
    "# Afficher le DataFrame mis à jour\n",
    "print(df.head().T)"
   ]
  },
  {
   "cell_type": "code",
   "execution_count": 7,
   "id": "cc81ea09",
   "metadata": {},
   "outputs": [
    {
     "name": "stdout",
     "output_type": "stream",
     "text": [
      "Nouvelle version enregistrée sur le bureau : C:\\Users\\Rania\\Desktop\\Table BORDEREAU.xlsx\n"
     ]
    }
   ],
   "source": [
    "import os\n",
    "import pandas as pd\n",
    "# Spécifier le chemin complet d'enregistrement sur votre bureau\n",
    "nom_fichier = 'Table BORDEREAU.xlsx'\n",
    "chemin_bureau = os.path.expanduser(\"~\\\\Desktop\\\\\" + nom_fichier)\n",
    "\n",
    "# Enregistrer la nouvelle version dans un fichier Excel\n",
    "df.to_excel(chemin_bureau, index=False)\n",
    "\n",
    "print(\"Nouvelle version enregistrée sur le bureau :\", chemin_bureau)"
   ]
  },
  {
   "cell_type": "code",
   "execution_count": null,
   "id": "9ba048ad",
   "metadata": {},
   "outputs": [],
   "source": []
  }
 ],
 "metadata": {
  "kernelspec": {
   "display_name": "Python 3 (ipykernel)",
   "language": "python",
   "name": "python3"
  },
  "language_info": {
   "codemirror_mode": {
    "name": "ipython",
    "version": 3
   },
   "file_extension": ".py",
   "mimetype": "text/x-python",
   "name": "python",
   "nbconvert_exporter": "python",
   "pygments_lexer": "ipython3",
   "version": "3.9.12"
  }
 },
 "nbformat": 4,
 "nbformat_minor": 5
}
