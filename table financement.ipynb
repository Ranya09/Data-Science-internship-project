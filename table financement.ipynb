{
 "cells": [
  {
   "cell_type": "code",
   "execution_count": 1,
   "id": "20286267",
   "metadata": {},
   "outputs": [
    {
     "name": "stdout",
     "output_type": "stream",
     "text": [
      "                                        0                    1  \\\n",
      "REF_CTR_FIN                             9                   11   \n",
      "MONT_FIN                      4091792.969              94055.0   \n",
      "DAT_FIN               2014-01-31 00:00:00  2018-09-13 00:00:00   \n",
      "INSTR_FIN                          Cheque               Cheque   \n",
      "REF_INSTR_FIN                         0.0                  0.0   \n",
      "DAT_INSTR_FIN         2018-07-06 00:00:00  2018-07-06 00:00:00   \n",
      "ETAT_FIN                              1.0                  1.0   \n",
      "REF_INSTR_FIN_filled            2019267.0            2019267.0   \n",
      "\n",
      "                                        2                    3  \\\n",
      "REF_CTR_FIN                            18                   19   \n",
      "MONT_FIN                       256648.412           135566.736   \n",
      "DAT_FIN               2014-02-27 00:00:00  2018-09-13 00:00:00   \n",
      "INSTR_FIN                          Cheque               Cheque   \n",
      "REF_INSTR_FIN                         0.0                  0.0   \n",
      "DAT_INSTR_FIN         2018-07-06 00:00:00  2018-07-06 00:00:00   \n",
      "ETAT_FIN                              1.0                  1.0   \n",
      "REF_INSTR_FIN_filled            2019267.0            2019267.0   \n",
      "\n",
      "                                        4  \n",
      "REF_CTR_FIN                            20  \n",
      "MONT_FIN                        45064.723  \n",
      "DAT_FIN               2018-09-13 00:00:00  \n",
      "INSTR_FIN                          Cheque  \n",
      "REF_INSTR_FIN                         0.0  \n",
      "DAT_INSTR_FIN         2018-07-06 00:00:00  \n",
      "ETAT_FIN                              1.0  \n",
      "REF_INSTR_FIN_filled            2019267.0  \n"
     ]
    }
   ],
   "source": [
    "import pandas as pd\n",
    "\n",
    "# Charger les données depuis un fichier \n",
    "df = pd.read_excel(r'C:/Users/Rania/Desktop/new_dataframeTabFIN.xlsx')\n",
    "\n",
    "# Afficher toutes les données du DataFrame\n",
    "print(df.head().T)\n"
   ]
  },
  {
   "cell_type": "code",
   "execution_count": 2,
   "id": "789dee1c",
   "metadata": {},
   "outputs": [
    {
     "data": {
      "text/plain": [
       "(3287, 8)"
      ]
     },
     "execution_count": 2,
     "metadata": {},
     "output_type": "execute_result"
    }
   ],
   "source": [
    "df.shape"
   ]
  },
  {
   "cell_type": "code",
   "execution_count": 3,
   "id": "d52c6399",
   "metadata": {},
   "outputs": [
    {
     "data": {
      "text/plain": [
       "REF_CTR_FIN             0\n",
       "MONT_FIN                0\n",
       "DAT_FIN                 0\n",
       "INSTR_FIN               0\n",
       "REF_INSTR_FIN           0\n",
       "DAT_INSTR_FIN           0\n",
       "ETAT_FIN                0\n",
       "REF_INSTR_FIN_filled    0\n",
       "dtype: int64"
      ]
     },
     "execution_count": 3,
     "metadata": {},
     "output_type": "execute_result"
    }
   ],
   "source": [
    "df.isna().sum()"
   ]
  },
  {
   "cell_type": "code",
   "execution_count": 4,
   "id": "5f55c678",
   "metadata": {},
   "outputs": [],
   "source": [
    "\n",
    "df.rename(columns={'DAT_INSTR_FIN ': 'DAT_INSTR_FIN'}, inplace=True)\n",
    "\n",
    "df['DAT_INSTR_FIN'] = pd.to_datetime(df['DAT_INSTR_FIN'])\n"
   ]
  },
  {
   "cell_type": "code",
   "execution_count": 5,
   "id": "5d110f7d",
   "metadata": {},
   "outputs": [
    {
     "name": "stdout",
     "output_type": "stream",
     "text": [
      "                                        0                    1  \\\n",
      "REF_CTR_FIN                             9                   11   \n",
      "MONT_FIN                      4091792.969              94055.0   \n",
      "DAT_FIN               2014-01-31 00:00:00  2018-09-13 00:00:00   \n",
      "INSTR_FIN                          Cheque               Cheque   \n",
      "REF_INSTR_FIN                         0.0                  0.0   \n",
      "DAT_INSTR_FIN                  06/07/2018           06/07/2018   \n",
      "ETAT_FIN                              1.0                  1.0   \n",
      "REF_INSTR_FIN_filled            2019267.0            2019267.0   \n",
      "\n",
      "                                        2                    3  \\\n",
      "REF_CTR_FIN                            18                   19   \n",
      "MONT_FIN                       256648.412           135566.736   \n",
      "DAT_FIN               2014-02-27 00:00:00  2018-09-13 00:00:00   \n",
      "INSTR_FIN                          Cheque               Cheque   \n",
      "REF_INSTR_FIN                         0.0                  0.0   \n",
      "DAT_INSTR_FIN                  06/07/2018           06/07/2018   \n",
      "ETAT_FIN                              1.0                  1.0   \n",
      "REF_INSTR_FIN_filled            2019267.0            2019267.0   \n",
      "\n",
      "                                        4  \n",
      "REF_CTR_FIN                            20  \n",
      "MONT_FIN                        45064.723  \n",
      "DAT_FIN               2018-09-13 00:00:00  \n",
      "INSTR_FIN                          Cheque  \n",
      "REF_INSTR_FIN                         0.0  \n",
      "DAT_INSTR_FIN                  06/07/2018  \n",
      "ETAT_FIN                              1.0  \n",
      "REF_INSTR_FIN_filled            2019267.0  \n"
     ]
    }
   ],
   "source": [
    "# Convertir la colonne DAT_BORD en objets DateTime (si ce n'est pas déjà le cas)\n",
    "df['DAT_INSTR_FIN'] = pd.to_datetime(df['DAT_INSTR_FIN'])\n",
    "\n",
    "# Formater les dates au format \"dd/mm/yyyy\"\n",
    "df['DAT_INSTR_FIN'] = df['DAT_INSTR_FIN'].dt.strftime('%d/%m/%Y')\n",
    "\n",
    "# Afficher le DataFrame mis à jour\n",
    "print(df.head().T)"
   ]
  },
  {
   "cell_type": "code",
   "execution_count": 6,
   "id": "33efc997",
   "metadata": {},
   "outputs": [
    {
     "name": "stdout",
     "output_type": "stream",
     "text": [
      "                                0           1           2           3  \\\n",
      "REF_CTR_FIN                     9          11          18          19   \n",
      "MONT_FIN              4091792.969     94055.0  256648.412  135566.736   \n",
      "DAT_FIN                31/01/2014  13/09/2018  27/02/2014  13/09/2018   \n",
      "INSTR_FIN                  Cheque      Cheque      Cheque      Cheque   \n",
      "REF_INSTR_FIN                 0.0         0.0         0.0         0.0   \n",
      "DAT_INSTR_FIN          06/07/2018  06/07/2018  06/07/2018  06/07/2018   \n",
      "ETAT_FIN                      1.0         1.0         1.0         1.0   \n",
      "REF_INSTR_FIN_filled    2019267.0   2019267.0   2019267.0   2019267.0   \n",
      "\n",
      "                               4  \n",
      "REF_CTR_FIN                   20  \n",
      "MONT_FIN               45064.723  \n",
      "DAT_FIN               13/09/2018  \n",
      "INSTR_FIN                 Cheque  \n",
      "REF_INSTR_FIN                0.0  \n",
      "DAT_INSTR_FIN         06/07/2018  \n",
      "ETAT_FIN                     1.0  \n",
      "REF_INSTR_FIN_filled   2019267.0  \n"
     ]
    }
   ],
   "source": [
    "\n",
    "df['DAT_FIN'] = pd.to_datetime(df['DAT_FIN'])\n",
    "\n",
    "# Formater les dates au format \"dd/mm/yyyy\"\n",
    "df['DAT_FIN'] = df['DAT_FIN'].dt.strftime('%d/%m/%Y')\n",
    "# Afficher le DataFrame mis à jour\n",
    "print(df.head().T)"
   ]
  },
  {
   "cell_type": "code",
   "execution_count": 8,
   "id": "8cc0ce5e",
   "metadata": {},
   "outputs": [
    {
     "name": "stdout",
     "output_type": "stream",
     "text": [
      "0            0\n",
      "1            0\n",
      "2            0\n",
      "3            0\n",
      "4            0\n",
      "         ...  \n",
      "3282    202134\n",
      "3283    202135\n",
      "3284    202136\n",
      "3285     20231\n",
      "3286     20232\n",
      "Name: REF_INSTR_FIN, Length: 3287, dtype: int32\n"
     ]
    }
   ],
   "source": [
    "\n",
    "df[\"REF_INSTR_FIN\"] = pd.to_numeric(df[\"REF_INSTR_FIN\"], errors='coerce')\n",
    "\n",
    "# Now, round the column to the desired number of decimal places\n",
    "df[\"REF_INSTR_FIN\"] = df[\"REF_INSTR_FIN\"].round().astype(int)\n",
    "\n",
    "# Now, the column \"REF_INSTR_FIN\" contains rounded integer values\n",
    "print(df[\"REF_INSTR_FIN\"])"
   ]
  },
  {
   "cell_type": "code",
   "execution_count": 9,
   "id": "eb6d81e1",
   "metadata": {},
   "outputs": [
    {
     "name": "stdout",
     "output_type": "stream",
     "text": [
      "0       1\n",
      "1       1\n",
      "2       1\n",
      "3       1\n",
      "4       1\n",
      "       ..\n",
      "3282    1\n",
      "3283    1\n",
      "3284    1\n",
      "3285    1\n",
      "3286    1\n",
      "Name: ETAT_FIN, Length: 3287, dtype: int32\n"
     ]
    }
   ],
   "source": [
    "import pandas as pd\n",
    "\n",
    "# Assuming 'df' is your DataFrame and 'ETAT_FIN' is the correct column name\n",
    "df[\"ETAT_FIN\"] = df[\"ETAT_FIN\"].round().astype(int)\n",
    "\n",
    "# Now, the column \"ETAT_FIN\" contains rounded integer values\n",
    "print(df[\"ETAT_FIN\"])\n"
   ]
  },
  {
   "cell_type": "code",
   "execution_count": 10,
   "id": "8fd402b7",
   "metadata": {},
   "outputs": [
    {
     "name": "stdout",
     "output_type": "stream",
     "text": [
      "0       2019267\n",
      "1       2019267\n",
      "2       2019267\n",
      "3       2019267\n",
      "4       2019267\n",
      "         ...   \n",
      "3282     202134\n",
      "3283     202135\n",
      "3284     202136\n",
      "3285      20231\n",
      "3286      20232\n",
      "Name: REF_INSTR_FIN_filled, Length: 3287, dtype: int32\n"
     ]
    }
   ],
   "source": [
    "import pandas as pd\n",
    "\n",
    "# Assuming 'df' is your DataFrame and 'REF_INSTR_FIN_filled' is the correct column name\n",
    "df[\"REF_INSTR_FIN_filled\"] = df[\"REF_INSTR_FIN_filled\"].round().astype(int)\n",
    "\n",
    "# Now, the column \"REF_INSTR_FIN_filled\" contains rounded integer values\n",
    "print(df[\"REF_INSTR_FIN_filled\"])"
   ]
  },
  {
   "cell_type": "code",
   "execution_count": 11,
   "id": "7f01e82f",
   "metadata": {},
   "outputs": [
    {
     "name": "stdout",
     "output_type": "stream",
     "text": [
      "Nouvelle version enregistrée sur le bureau : C:\\Users\\Rania\\Desktop\\Table financement.xlsx\n"
     ]
    }
   ],
   "source": [
    "import os\n",
    "import pandas as pd\n",
    "# Spécifier le chemin complet d'enregistrement sur votre bureau\n",
    "nom_fichier = 'Table financement.xlsx'\n",
    "chemin_bureau = os.path.expanduser(\"~\\\\Desktop\\\\\" + nom_fichier)\n",
    "\n",
    "# Enregistrer la nouvelle version dans un fichier Excel\n",
    "df.to_excel(chemin_bureau, index=False)\n",
    "\n",
    "print(\"Nouvelle version enregistrée sur le bureau :\", chemin_bureau)"
   ]
  },
  {
   "cell_type": "code",
   "execution_count": null,
   "id": "86fd7fa2",
   "metadata": {},
   "outputs": [],
   "source": []
  }
 ],
 "metadata": {
  "kernelspec": {
   "display_name": "Python 3 (ipykernel)",
   "language": "python",
   "name": "python3"
  },
  "language_info": {
   "codemirror_mode": {
    "name": "ipython",
    "version": 3
   },
   "file_extension": ".py",
   "mimetype": "text/x-python",
   "name": "python",
   "nbconvert_exporter": "python",
   "pygments_lexer": "ipython3",
   "version": "3.9.12"
  }
 },
 "nbformat": 4,
 "nbformat_minor": 5
}
